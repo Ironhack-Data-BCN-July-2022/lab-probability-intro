{
 "cells": [
  {
   "cell_type": "markdown",
   "metadata": {},
   "source": [
    "# Probability"
   ]
  },
  {
   "cell_type": "markdown",
   "metadata": {},
   "source": [
    "## Challenge 1\n",
    "There is a box with 10 white balls, 12 red balls and 8 black balls. Calculate the probability of:\n",
    "* Taking a white ball out.\n",
    "* Taking a white ball on first extraction and a black ball out on second extraction without replacing the first one.\n",
    "* Taking a white ball on first extraction and a black ball out on second extraction replacing the first one.\n",
    "* Taking 3 balls and them being all different colours."
   ]
  },
  {
   "cell_type": "markdown",
   "metadata": {},
   "source": [
    "* Taking a white ball out (=A).\n",
    "\n",
    "&nbsp;&nbsp;&nbsp;&nbsp;&nbsp;&nbsp;&nbsp;&nbsp;Total number of balls is 10+12+8=30. Using Laplace's rule:\n",
    "$$\n",
    "P(A) = \\frac{10}{30}=\\frac{1}{3}\n",
    "$$\n",
    "* Taking a white ball on first extraction (=A) and a black ball out on second extraction (=B) without replacing the first one.\n",
    "\n",
    "&nbsp;&nbsp;&nbsp;&nbsp;&nbsp;&nbsp;&nbsp;&nbsp;After taking out a white ball there will be 8 black balls and 29 total balls in the box. Then:\n",
    "$$\n",
    "P(A\\cap B) = P(A)\\cdot P(B|A) = \\frac{1}{3}\\cdot\\frac{8}{29}= \\frac{8}{87}\n",
    "$$\n",
    "* Taking a white ball on first extraction (=A) and a black ball out on second extraction (=B) replacing the first one.\n",
    "\n",
    "&nbsp;&nbsp;&nbsp;&nbsp;&nbsp;&nbsp;&nbsp;&nbsp;Now the extractions are independant so:\n",
    "$$\n",
    "P(A\\cap B) = P(A)\\cdot P(B) = \\frac{1}{3}\\cdot\\frac{8}{30}= \\frac{8}{90}\n",
    "$$\n",
    "* Taking 3 balls and them being all different colours.\n",
    "\n",
    "&nbsp;&nbsp;&nbsp;&nbsp;&nbsp;&nbsp;&nbsp;&nbsp;We define the probability of taking first a white ball(=A), then a black ball (=B) and then a red ball (=C) as $$P(A\\cap B \\cap C)$$\n",
    "&nbsp;&nbsp;&nbsp;&nbsp;&nbsp;&nbsp;&nbsp;&nbsp;Then:\n",
    "$$\n",
    "P(A\\cap B\\cap C) = P(A)\\cdot P(B|A) \\cdot P(C|(B\\cap A))=\\frac{10}{30}\\cdot\\frac{8}{29}\\cdot\\frac{12}{28}=\\frac{960}{24360}=\\frac{8}{203}\n",
    "$$\n",
    "&nbsp;&nbsp;&nbsp;&nbsp;&nbsp;&nbsp;&nbsp;&nbsp;Now we will calculate the probability of taking first white, then red and then black (A,C,B) and all the other orders where we can get a ball of each color &nbsp;&nbsp;&nbsp;&nbsp;&nbsp;&nbsp;&nbsp;&nbsp;(B,A,C), (B,C,A), (C,A,B), (C,B,A).\n",
    "$$\n",
    "P(A\\cap C\\cap B) =\\frac{10}{30}\\cdot\\frac{12}{29}\\cdot\\frac{8}{28}=\\frac{960}{24360}=\\frac{8}{203}\n",
    "$$\n",
    "&nbsp;&nbsp;&nbsp;&nbsp;&nbsp;&nbsp;&nbsp;&nbsp;We could keep calculating but we can also realize that all the results will be the same: $$ \\frac{8}{203} $$ &nbsp;&nbsp;&nbsp;&nbsp;&nbsp;&nbsp;&nbsp;&nbsp;because the numerators of the products will always be 10, 12 and 8 (in any order) and the denominators will always be 30, 29, 28 (in that order). Then, &nbsp;&nbsp;&nbsp;&nbsp;&nbsp;&nbsp;&nbsp;&nbsp;the probability of taking 3 balls of diferent colors is $$P(A\\cap B\\cap C)+P(A\\cap C\\cap B)+...+P(C\\cap B\\cap A)$$\n",
    "&nbsp;&nbsp;&nbsp;&nbsp;&nbsp;&nbsp;&nbsp;&nbsp;Which is:\n",
    "$$\n",
    "\\frac{8}{203}+\\frac{8}{203}+...+\\frac{8}{203}=\\frac{8}{203}\\cdot 6 =\\frac{48}{203}\n",
    "$$"
   ]
  },
  {
   "cell_type": "markdown",
   "metadata": {},
   "source": [
    "## Challenge 2\n",
    "\n",
    "You want to go on picnic on Saturday. You hate rain, and would know to plan your weekend. To help you make a decision, you gather the following data about rainy days:\n",
    "\n",
    "* 40% of all days are cloudy.\n",
    "* About 50% of cloudy days are rainy. \n",
    "* About 20% of non-cloudy days are rainy.\n",
    "\n",
    "What is the chance of rain during next Saturday?"
   ]
  },
  {
   "cell_type": "markdown",
   "metadata": {},
   "source": [
    "- Cloudy = C\n",
    "- Not cloudy = NC\n",
    "- Rainy = R\n",
    "\n",
    "Since a day is always either cloudy or not cloudy, then:\n",
    "$$\n",
    "\\begin{multline}\n",
    "    P(R)=P(R\\cap(C\\cup NC))= P((R\\cap C)\\cup(R\\cap NC))= P((R\\cap C)) + P((R\\cap NC)) - P((R\\cap C)\\cap(R\\cap NC)) = \\\\\n",
    "    =P(C)\\cdot P(R|C)+P(NC)\\cdot P(R|NC) -P((R\\cap C)\\cap(R\\cap NC))= 0.4\\cdot 0.5+0.6\\cdot 0.2 -0 = 0.2 + 0.12 = 0.32\n",
    "\\end{multline}\n",
    "$$"
   ]
  },
  {
   "cell_type": "markdown",
   "metadata": {},
   "source": [
    "## Challenge 3\n",
    "\n",
    "A and B are events of a probability such that $P(A) = 0.3$, $P(B) = 0.6$ and $P(A \\cap B) = 0.1$\n",
    "\n",
    "Which of the following statements are true?  \n",
    "**HINT: draw a big Venn Diagram by your side**  \n",
    "* $P(\\overline{A}) = 0.7$\n",
    "* $P(A \\cup B) = 0.6$\n",
    "* $P(A \\cap \\overline{B}) = 0.2$\n",
    "* $P(A \\cup \\overline{A}) = 1$  \n",
    "* $P(A \\cap (B \\cup \\overline{B})) = 0.4$\n",
    "* $P(\\overline{A} \\cap \\overline{B}) = 0.3$\n",
    "* $P(\\overline{A \\cap B}) = 0.9$"
   ]
  },
  {
   "cell_type": "markdown",
   "metadata": {},
   "source": [
    "* $P(\\overline{A}) = 0.7$ is true, because:\n",
    "$$\n",
    "P(\\overline{A}) = 1 - P(A)= 1-0.3=0.7\n",
    "$$\n",
    "\n",
    "* $P(A \\cup B) = 0.6$ is false, because:\n",
    "\n",
    "$$\n",
    "P(A \\cup B) = P(A)+P(B)-P(A\\cap B)= 0.3 + 0.6 - 0.1 = 0.8\n",
    "$$\n",
    "* $P(A \\cap \\overline{B}) = 0.2$ is true, because (some equalities are derived from venn diagrams):\n",
    "\n",
    "$$\n",
    "P(A \\cap \\overline{B}) = P(A)-P(A\\cap B)= 0.3 - 0.1 = 0.2\n",
    "$$\n",
    "* $P(A \\cup \\overline{A}) = 1$  is true, because:\n",
    "\n",
    "$$\n",
    "P(A \\cup \\overline{A}) = P(A)+P(\\overline{A}) - P(A\\cap\\overline{A})= 0.3 + 0.7 - 0 = 1\n",
    "$$\n",
    "* $P(A \\cap (B \\cup \\overline{B})) = 0.4$ is false, because (using $\\Omega$ as our entire sample space):\n",
    "\n",
    "$$\n",
    "P(A \\cap (B \\cup \\overline{B})) = P(A \\cap (\\Omega)) = P(A) = 0.3\n",
    "$$\n",
    "* $P(\\overline{A} \\cap \\overline{B}) = 0.3$ is false, because (some equalities are derived from venn diagrams):\n",
    "\n",
    "$$\n",
    "P(\\overline{A} \\cap \\overline{B}) = 1-P(A)-P(B)+P(A\\cap B) = 1 - 0.3 - 0.6 + 0.1 =0.2\n",
    "$$\n",
    "* $P(\\overline{A \\cap B}) = 0.9$ is true because:\n",
    "\n",
    "$$\n",
    "P(\\overline{A \\cap B}) = 1 - P(A\\cap B) = 1 - 0.1 = 0.9\n",
    "$$"
   ]
  },
  {
   "cell_type": "markdown",
   "metadata": {},
   "source": [
    "## Challenge 4\n",
    "\n",
    " * If someone flies to China, the probability of getting Covid is 1%  \n",
    " * If someone flies to Italy, the probability of getting Covid is 20%  \n",
    "\n",
    "I roll 1 dice with numbers 1, 2, 3, 4, 5, 6:  \n",
    " * If 1: I fly to Italy\n",
    " * If not 1: I fly to China\n",
    "\n",
    "During my trip, I got Covid. What is the probability that I flew to China?"
   ]
  },
  {
   "cell_type": "markdown",
   "metadata": {},
   "source": [
    "$$\n",
    "P(Co) = P(Co\\cap Ch) + P(Co\\cap It) = \\frac{5}{6}\\cdot 0.01 + \\frac{1}{6}\\cdot 0.20 = \\frac{5}{600} + \\frac{1}{30} = \\frac{1}{24}\n",
    "$$\n",
    "\n",
    "$$\n",
    "P(Ch|Co) = \\frac{P(Co|Ch)\\cdot P(Ch)}{P(Co)} = \\frac{0.01\\cdot \\frac{5}{6}}{\\frac{1}{24}}=0.2\n",
    "$$\n",
    "The probability that I flew to China (knowing that I got covid) is 0.2"
   ]
  },
  {
   "cell_type": "markdown",
   "metadata": {},
   "source": [
    "## BONUS\n",
    "\n",
    "You roll 2 dice. What is the probability that the sum of the numbers is 7? And 8? And 9? Then simulate 10000 times and draw a countplot."
   ]
  },
  {
   "cell_type": "markdown",
   "metadata": {},
   "source": [
    "Drawing trees it can be shown that out of the 36 possible results you can have when rolling 2 dice, 6 of them sum 7, 5 of them sum 8 and 4 of them sum 9, so the probabilities are:\n",
    "\n",
    "$$\n",
    "P(7) = \\frac{6}{36} \\approx 0.1667\n",
    "$$\n",
    "$$\n",
    "P(8) = \\frac{5}{36} \\approx 0.1389\n",
    "$$\n",
    "$$\n",
    "P(9) = \\frac{4}{36} \\approx 0.1111\n",
    "$$"
   ]
  },
  {
   "cell_type": "code",
   "execution_count": 16,
   "metadata": {},
   "outputs": [
    {
     "name": "stdout",
     "output_type": "stream",
     "text": [
      "The sum of the dice was seven 16.29% of the time, was eight 13.33% of the time and was nine 11.22% of the time\n"
     ]
    }
   ],
   "source": [
    "import random\n",
    "sevens = 0\n",
    "eights = 0\n",
    "nines = 0\n",
    "for i in range(10000):\n",
    "    random_die1 = random.randrange(1, 7)\n",
    "    random_die2 = random.randrange(1, 7)\n",
    "    sum_of_dies = random_die1 + random_die2\n",
    "    if sum_of_dies==7:\n",
    "        sevens += 1\n",
    "    elif sum_of_dies==8:\n",
    "        eights += 1\n",
    "    elif sum_of_dies==9:\n",
    "        nines += 1\n",
    "sevens /= 100\n",
    "sevens = round(sevens, 4)\n",
    "eights /= 100\n",
    "eights = round(eights, 4)\n",
    "nines /= 100\n",
    "nines = round(nines, 4)\n",
    "print(f\"The sum of the dice was seven {sevens}% of the time, was eight {eights}% of the time and was nine {nines}% of the time\")"
   ]
  }
 ],
 "metadata": {
  "kernelspec": {
   "display_name": "Python 3 (ipykernel)",
   "language": "python",
   "name": "python3"
  },
  "language_info": {
   "codemirror_mode": {
    "name": "ipython",
    "version": 3
   },
   "file_extension": ".py",
   "mimetype": "text/x-python",
   "name": "python",
   "nbconvert_exporter": "python",
   "pygments_lexer": "ipython3",
   "version": "3.9.12"
  },
  "toc": {
   "base_numbering": 1,
   "nav_menu": {},
   "number_sections": false,
   "sideBar": true,
   "skip_h1_title": false,
   "title_cell": "Table of Contents",
   "title_sidebar": "Contents",
   "toc_cell": false,
   "toc_position": {
    "height": "calc(100% - 180px)",
    "left": "10px",
    "top": "150px",
    "width": "296.475px"
   },
   "toc_section_display": true,
   "toc_window_display": false
  },
  "varInspector": {
   "cols": {
    "lenName": 16,
    "lenType": 16,
    "lenVar": 40
   },
   "kernels_config": {
    "python": {
     "delete_cmd_postfix": "",
     "delete_cmd_prefix": "del ",
     "library": "var_list.py",
     "varRefreshCmd": "print(var_dic_list())"
    },
    "r": {
     "delete_cmd_postfix": ") ",
     "delete_cmd_prefix": "rm(",
     "library": "var_list.r",
     "varRefreshCmd": "cat(var_dic_list()) "
    }
   },
   "types_to_exclude": [
    "module",
    "function",
    "builtin_function_or_method",
    "instance",
    "_Feature"
   ],
   "window_display": false
  }
 },
 "nbformat": 4,
 "nbformat_minor": 2
}
